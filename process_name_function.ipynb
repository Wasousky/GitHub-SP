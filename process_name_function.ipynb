{
 "cells": [
  {
   "cell_type": "code",
   "execution_count": 1,
   "id": "9de979bb",
   "metadata": {},
   "outputs": [],
   "source": [
    "def process_name_column(df):\n",
    "    # Split the 'name' column into two columns: 'subject_id' and 'trial'\n",
    "    aux = df['name'].str.split('_', expand=True)\n",
    "    \n",
    "    # Drop the first two columns as they are not relevant\n",
    "    aux.drop(aux.columns[[0, 1]], axis=1, inplace=True)\n",
    "    \n",
    "    # Rename the columns for clarity\n",
    "    aux.columns = ['subject_id', 'trial']\n",
    "    \n",
    "    # Add the new columns to the original dataframe at the beginning\n",
    "    df = pd.concat([aux, df], axis=1)\n",
    "    \n",
    "    # Remove the original 'name' column\n",
    "    df.drop('name', axis=1, inplace=True)\n",
    "    \n",
    "    return df"
   ]
  },
  {
   "cell_type": "code",
   "execution_count": null,
   "id": "d92b0825",
   "metadata": {},
   "outputs": [],
   "source": []
  }
 ],
 "metadata": {
  "kernelspec": {
   "display_name": "Python 3 (ipykernel)",
   "language": "python",
   "name": "python3"
  },
  "language_info": {
   "codemirror_mode": {
    "name": "ipython",
    "version": 3
   },
   "file_extension": ".py",
   "mimetype": "text/x-python",
   "name": "python",
   "nbconvert_exporter": "python",
   "pygments_lexer": "ipython3",
   "version": "3.11.5"
  }
 },
 "nbformat": 4,
 "nbformat_minor": 5
}
