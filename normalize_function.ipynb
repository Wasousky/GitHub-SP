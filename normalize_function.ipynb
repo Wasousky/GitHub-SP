{
 "cells": [
  {
   "cell_type": "code",
   "execution_count": 1,
   "id": "4c67955a",
   "metadata": {},
   "outputs": [],
   "source": [
    "from sklearn.preprocessing import StandardScaler\n",
    "from sklearn.preprocessing import MinMaxScaler \n",
    "\n",
    "def normalize(df, op):\n",
    "    \"\"\"\n",
    "        This function normalize all the variables within the dataframe.\n",
    "        Inputs:\n",
    "            df: a dataframe\n",
    "            op: needs to be 0 for standard normalization using z-score method and 1 for min max normalization\n",
    "        Outputs:\n",
    "            norm_df: a dataframe with the normalized variables\n",
    "    \"\"\"\n",
    "    # Check if op is a valid option\n",
    "    if op not in [0, 1]:\n",
    "        raise ValueError(\"Invalid value for 'op'. Please use 0 for z-score normalization or 1 for min-max normalization.\")\n",
    "\n",
    "    # Identify numerical columns for normalization\n",
    "    numerical_cols = df.select_dtypes(include=['number']).columns\n",
    "\n",
    "    # Identify categorical columns to avoid normalization\n",
    "    categorical_cols = df.select_dtypes(exclude=['number']).columns\n",
    "\n",
    "    # Select columns based on normalization option\n",
    "    cols_to_normalize = numerical_cols if op == 0 else numerical_cols.difference(categorical_cols)\n",
    "\n",
    "    # Copy the original dataframe to avoid modifying the input dataframe\n",
    "    norm_df = df.copy()\n",
    "\n",
    "    if op == 0:  # Z-score normalization\n",
    "        scaler = StandardScaler()\n",
    "    elif op == 1:  # Min-max normalization\n",
    "        scaler = MinMaxScaler()\n",
    "\n",
    "    # Apply normalization to selected columns\n",
    "    norm_df[cols_to_normalize] = scaler.fit_transform(norm_df[cols_to_normalize])\n",
    "\n",
    "    return norm_df\n"
   ]
  },
  {
   "cell_type": "code",
   "execution_count": null,
   "id": "d688cb1c",
   "metadata": {},
   "outputs": [],
   "source": []
  }
 ],
 "metadata": {
  "kernelspec": {
   "display_name": "Python 3 (ipykernel)",
   "language": "python",
   "name": "python3"
  },
  "language_info": {
   "codemirror_mode": {
    "name": "ipython",
    "version": 3
   },
   "file_extension": ".py",
   "mimetype": "text/x-python",
   "name": "python",
   "nbconvert_exporter": "python",
   "pygments_lexer": "ipython3",
   "version": "3.11.5"
  }
 },
 "nbformat": 4,
 "nbformat_minor": 5
}
