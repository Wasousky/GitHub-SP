{
 "cells": [
  {
   "cell_type": "code",
   "execution_count": null,
   "id": "01341b00",
   "metadata": {},
   "outputs": [],
   "source": [
    "import matplotlib.pyplot as plt\n",
    "\n",
    "def scat_plt(var1, var2, groups):\n",
    "    \"\"\"\n",
    "        This function creates a scatterplot of variable 1 and variable 2 and distinguish the given groups throguh color code.\n",
    "        Inputs:\n",
    "            var1: array MxN\n",
    "            var2: array MxN\n",
    "            groups: array MxN as var1 and var2 where the information regarding to group belonging is contained\n",
    "        Outputs:\n",
    "            scatterplot\n",
    "    \"\"\"\n",
    "    unique_groups = set(groups)\n",
    "    colors = plt.cm.get_cmap('tab10', len(unique_groups))\n",
    "\n",
    "    plt.figure(figsize=(8, 6))\n",
    "\n",
    "    for group in unique_groups:\n",
    "        group_mask = groups == group\n",
    "        plt.scatter(var1[group_mask], var2[group_mask], label=f'Group {group}', color=colors(group))\n",
    "\n",
    "    plt.xlabel('Variable 1')\n",
    "    plt.ylabel('Variable 2')\n",
    "    plt.legend()\n",
    "    plt.title('Scatter Plot with Group Information')\n",
    "    plt.grid(True)\n",
    "    plt.show()"
   ]
  }
 ],
 "metadata": {
  "kernelspec": {
   "display_name": "Python 3 (ipykernel)",
   "language": "python",
   "name": "python3"
  },
  "language_info": {
   "codemirror_mode": {
    "name": "ipython",
    "version": 3
   },
   "file_extension": ".py",
   "mimetype": "text/x-python",
   "name": "python",
   "nbconvert_exporter": "python",
   "pygments_lexer": "ipython3",
   "version": "3.11.5"
  }
 },
 "nbformat": 4,
 "nbformat_minor": 5
}
