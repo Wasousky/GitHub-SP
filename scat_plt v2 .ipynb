{
 "cells": [
  {
   "cell_type": "code",
   "execution_count": 1,
   "id": "d068ef13",
   "metadata": {},
   "outputs": [],
   "source": [
    "import matplotlib.pyplot as plt\n",
    "import seaborn as sns\n",
    "\n",
    "def scat_plt(var1, var2, groups):\n",
    "    \n",
    "    # Set up the plot\n",
    "    plt.figure(figsize=(10, 6))\n",
    "\n",
    "    # Use seaborn for better styling (optional)\n",
    "    sns.scatterplot(data=df[[var1, var2,groups]], x=var1, y=var2, hue=groups, palette='viridis')\n",
    "\n",
    "    # Set plot labels and title\n",
    "    plt.xlabel(var1)\n",
    "    plt.ylabel(var2)\n",
    "    plt.title(f'Scatter Plot of {var1} vs {var2} with Status Labels')\n",
    "\n",
    "    # Display the legend\n",
    "    plt.legend()\n",
    "\n",
    "    # Show the plot\n",
    "    plt.show()"
   ]
  },
  {
   "cell_type": "code",
   "execution_count": null,
   "id": "f2f520cc",
   "metadata": {},
   "outputs": [],
   "source": [
    "#PRUEBA \n",
    "\n",
    "var_x = 'MDVP:Fo(Hz)'\n",
    "var_y = 'MDVP:Fhi(Hz)'\n",
    "groups= 'status'\n",
    "\n",
    "scat_plt(var_x, var_y, groups)"
   ]
  }
 ],
 "metadata": {
  "kernelspec": {
   "display_name": "Python 3 (ipykernel)",
   "language": "python",
   "name": "python3"
  },
  "language_info": {
   "codemirror_mode": {
    "name": "ipython",
    "version": 3
   },
   "file_extension": ".py",
   "mimetype": "text/x-python",
   "name": "python",
   "nbconvert_exporter": "python",
   "pygments_lexer": "ipython3",
   "version": "3.11.5"
  }
 },
 "nbformat": 4,
 "nbformat_minor": 5
}
