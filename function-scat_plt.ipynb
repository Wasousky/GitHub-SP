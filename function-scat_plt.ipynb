import matplotlib.pyplot as plt

def scat_plt(var1, var2, groups):
    """
        This function creates a scatterplot of variable 1 and variable 2 and distinguish the given groups throguh color code.
        Inputs:
            var1: array MxN
            var2: array MxN
            groups: array MxN as var1 and var2 where the information regarding to group belonging is contained
        Outputs:
            scatterplot
    """
    unique_groups = set(groups)
    colors = plt.cm.get_cmap('tab10', len(unique_groups))

    plt.figure(figsize=(8, 6))

    for group in unique_groups:
        group_mask = groups == group
        plt.scatter(var1[group_mask], var2[group_mask], label=f'Group {group}', color=colors(group))

    plt.xlabel('Variable 1')
    plt.ylabel('Variable 2')
    plt.legend()
    plt.title('Scatter Plot with Group Information')
    plt.grid(True)
    plt.show()
