{
 "cells": [
  {
   "cell_type": "code",
   "execution_count": null,
   "metadata": {},
   "outputs": [],
   "source": [
    "def renamevars (df, dict_names):\n",
    "    \"\"\"\n",
    "    Rename variables on a given dataframe df. The function returns a df who’s columns names are as detailed in dict_names.\n",
    "    Inputs:\n",
    "        df: a given data frame\n",
    "        dict_names: a dictionary for mapping the actual names of the columns in the dataframe (each key of the dictionary) to a given new simpler name (i.e. the values of the dictionary).\n",
    "                    You can follow the example in the notebook numpy_pandas_sklearn.ipynb for the Lab 4.\n",
    "    Output:\n",
    "        renamed_df: returns the input dataframe but with the columns renamed as in dict_names\n",
    "    \"\"\"\n",
    "\n",
    "    renamed_df = df.rename(columns=dict_names)\n",
    "    \n",
    "    return renamed_df"
   ]
  }
 ],
 "metadata": {
  "kernelspec": {
   "display_name": "Python 3 (ipykernel)",
   "language": "python",
   "name": "python3"
  },
  "language_info": {
   "codemirror_mode": {
    "name": "ipython",
    "version": 3
   },
   "file_extension": ".py",
   "mimetype": "text/x-python",
   "name": "python",
   "nbconvert_exporter": "python",
   "pygments_lexer": "ipython3",
   "version": "3.11.5"
  }
 },
 "nbformat": 4,
 "nbformat_minor": 2
}
