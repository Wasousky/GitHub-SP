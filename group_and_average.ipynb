{
 "cells": [
  {
   "cell_type": "code",
   "execution_count": 2,
   "id": "8108ba08",
   "metadata": {},
   "outputs": [],
   "source": [
    "def group_and_average (df, gv):\n",
    "    \"\"\"\n",
    "        Averages all variables on a given dataframe by aggregating them according to the variable gv. The function returns the average of all variables.\n",
    "        Inputs:\n",
    "            df: a given dataframe\n",
    "            gv: the name of the grouping variable\n",
    "        Outputs:\n",
    "            av_df: averaged df\n",
    "    \"\"\"\n",
    "    # Seleccionar solo columnas numéricas y la columna 'subject_id'\n",
    "    df_numeric = df.select_dtypes(include=['number']).join(df['subject_id'])\n",
    "    av_df = df_numeric.groupby('subject_id').mean().reset_index()\n",
    "    \n",
    "    return av_df"
   ]
  }
 ],
 "metadata": {
  "kernelspec": {
   "display_name": "Python 3 (ipykernel)",
   "language": "python",
   "name": "python3"
  },
  "language_info": {
   "codemirror_mode": {
    "name": "ipython",
    "version": 3
   },
   "file_extension": ".py",
   "mimetype": "text/x-python",
   "name": "python",
   "nbconvert_exporter": "python",
   "pygments_lexer": "ipython3",
   "version": "3.11.5"
  }
 },
 "nbformat": 4,
 "nbformat_minor": 5
}
